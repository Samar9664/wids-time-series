{
  "cells": [
    {
      "cell_type": "code",
      "execution_count": null,
      "metadata": {
        "colab": {
          "base_uri": "https://localhost:8080/"
        },
        "id": "P6dDq6fO5BaS",
        "outputId": "2e4f197b-b788-4a9a-f622-3e9c836a22ba"
      },
      "outputs": [
        {
          "name": "stdout",
          "output_type": "stream",
          "text": [
            "Collecting pmdarima\n",
            "  Downloading pmdarima-1.8.5-cp39-cp39-macosx_10_15_x86_64.whl (604 kB)\n",
            "\u001b[K     |████████████████████████████████| 604 kB 1.0 MB/s eta 0:00:01\n",
            "\u001b[?25hCollecting Cython!=0.29.18,>=0.29\n",
            "  Using cached Cython-0.29.30-py2.py3-none-any.whl (985 kB)\n",
            "Requirement already satisfied: numpy>=1.19.3 in /Users/agam9427/opt/miniconda3/lib/python3.9/site-packages (from pmdarima) (1.22.3)\n",
            "Requirement already satisfied: pandas>=0.19 in /Users/agam9427/opt/miniconda3/lib/python3.9/site-packages (from pmdarima) (1.4.2)\n",
            "Requirement already satisfied: setuptools!=50.0.0,>=38.6.0 in /Users/agam9427/opt/miniconda3/lib/python3.9/site-packages (from pmdarima) (58.0.4)\n",
            "Requirement already satisfied: urllib3 in /Users/agam9427/opt/miniconda3/lib/python3.9/site-packages (from pmdarima) (1.26.7)\n",
            "Requirement already satisfied: scipy>=1.3.2 in /Users/agam9427/opt/miniconda3/lib/python3.9/site-packages (from pmdarima) (1.8.0)\n",
            "Requirement already satisfied: joblib>=0.11 in /Users/agam9427/opt/miniconda3/lib/python3.9/site-packages (from pmdarima) (1.1.0)\n",
            "Requirement already satisfied: scikit-learn>=0.22 in /Users/agam9427/opt/miniconda3/lib/python3.9/site-packages (from pmdarima) (1.1.1)\n",
            "Requirement already satisfied: statsmodels!=0.12.0,>=0.11 in /Users/agam9427/opt/miniconda3/lib/python3.9/site-packages (from pmdarima) (0.13.2)\n",
            "Requirement already satisfied: python-dateutil>=2.8.1 in /Users/agam9427/opt/miniconda3/lib/python3.9/site-packages (from pandas>=0.19->pmdarima) (2.8.2)\n",
            "Requirement already satisfied: pytz>=2020.1 in /Users/agam9427/opt/miniconda3/lib/python3.9/site-packages (from pandas>=0.19->pmdarima) (2022.1)\n",
            "Requirement already satisfied: six>=1.5 in /Users/agam9427/opt/miniconda3/lib/python3.9/site-packages (from python-dateutil>=2.8.1->pandas>=0.19->pmdarima) (1.16.0)\n",
            "Requirement already satisfied: threadpoolctl>=2.0.0 in /Users/agam9427/opt/miniconda3/lib/python3.9/site-packages (from scikit-learn>=0.22->pmdarima) (3.1.0)\n",
            "Requirement already satisfied: packaging>=21.3 in /Users/agam9427/opt/miniconda3/lib/python3.9/site-packages (from statsmodels!=0.12.0,>=0.11->pmdarima) (21.3)\n",
            "Requirement already satisfied: patsy>=0.5.2 in /Users/agam9427/opt/miniconda3/lib/python3.9/site-packages (from statsmodels!=0.12.0,>=0.11->pmdarima) (0.5.2)\n",
            "Requirement already satisfied: pyparsing!=3.0.5,>=2.0.2 in /Users/agam9427/opt/miniconda3/lib/python3.9/site-packages (from packaging>=21.3->statsmodels!=0.12.0,>=0.11->pmdarima) (3.0.8)\n",
            "Installing collected packages: Cython, pmdarima\n",
            "Successfully installed Cython-0.29.30 pmdarima-1.8.5\n",
            "Note: you may need to restart the kernel to use updated packages.\n"
          ]
        }
      ],
      "source": [
        "\n",
        "pip install pmdarima"
      ]
    },
    {
      "cell_type": "code",
      "execution_count": null,
      "metadata": {
        "id": "OqSr_pV8kABk"
      },
      "outputs": [],
      "source": [
        "import pandas as pd\n",
        "import numpy as np\n",
        "import yfinance as yf\n",
        "import matplotlib.pyplot as plt\n",
        "import pmdarima\n",
        "import warnings\n",
        "warnings.simplefilter('ignore')"
      ]
    },
    {
      "cell_type": "code",
      "execution_count": null,
      "metadata": {
        "id": "LtDAP6UhkNbY",
        "outputId": "720d2603-e240-4d61-fa54-88389b3faf3f"
      },
      "outputs": [
        {
          "data": {
            "text/plain": [
              "504"
            ]
          },
          "execution_count": 3,
          "metadata": {},
          "output_type": "execute_result"
        }
      ],
      "source": [
        "fb = yf.Ticker('FB').history(\"2y\")\n",
        "len(fb)"
      ]
    },
    {
      "cell_type": "code",
      "execution_count": null,
      "metadata": {
        "id": "94tOKB7dlGQl",
        "outputId": "cf295195-6fc4-4dfb-fdb5-a7fd2b2629cb"
      },
      "outputs": [
        {
          "data": {
            "text/html": [
              "<div>\n",
              "<style scoped>\n",
              "    .dataframe tbody tr th:only-of-type {\n",
              "        vertical-align: middle;\n",
              "    }\n",
              "\n",
              "    .dataframe tbody tr th {\n",
              "        vertical-align: top;\n",
              "    }\n",
              "\n",
              "    .dataframe thead th {\n",
              "        text-align: right;\n",
              "    }\n",
              "</style>\n",
              "<table border=\"1\" class=\"dataframe\">\n",
              "  <thead>\n",
              "    <tr style=\"text-align: right;\">\n",
              "      <th></th>\n",
              "      <th>Open</th>\n",
              "      <th>High</th>\n",
              "      <th>Low</th>\n",
              "      <th>Close</th>\n",
              "      <th>Volume</th>\n",
              "      <th>Dividends</th>\n",
              "      <th>Stock Splits</th>\n",
              "    </tr>\n",
              "    <tr>\n",
              "      <th>Date</th>\n",
              "      <th></th>\n",
              "      <th></th>\n",
              "      <th></th>\n",
              "      <th></th>\n",
              "      <th></th>\n",
              "      <th></th>\n",
              "      <th></th>\n",
              "    </tr>\n",
              "  </thead>\n",
              "  <tbody>\n",
              "    <tr>\n",
              "      <th>2022-07-13</th>\n",
              "      <td>160.160004</td>\n",
              "      <td>164.979996</td>\n",
              "      <td>159.612701</td>\n",
              "      <td>163.490005</td>\n",
              "      <td>16555138</td>\n",
              "      <td>0</td>\n",
              "      <td>0</td>\n",
              "    </tr>\n",
              "    <tr>\n",
              "      <th>2022-07-14</th>\n",
              "      <td>161.220001</td>\n",
              "      <td>162.589996</td>\n",
              "      <td>157.280106</td>\n",
              "      <td>158.050003</td>\n",
              "      <td>23765168</td>\n",
              "      <td>0</td>\n",
              "      <td>0</td>\n",
              "    </tr>\n",
              "    <tr>\n",
              "      <th>2022-07-15</th>\n",
              "      <td>160.539993</td>\n",
              "      <td>164.979996</td>\n",
              "      <td>159.820007</td>\n",
              "      <td>164.699997</td>\n",
              "      <td>23342807</td>\n",
              "      <td>0</td>\n",
              "      <td>0</td>\n",
              "    </tr>\n",
              "    <tr>\n",
              "      <th>2022-07-18</th>\n",
              "      <td>166.750000</td>\n",
              "      <td>171.684998</td>\n",
              "      <td>165.639999</td>\n",
              "      <td>167.229996</td>\n",
              "      <td>23574337</td>\n",
              "      <td>0</td>\n",
              "      <td>0</td>\n",
              "    </tr>\n",
              "    <tr>\n",
              "      <th>2022-07-19</th>\n",
              "      <td>170.369995</td>\n",
              "      <td>176.490005</td>\n",
              "      <td>169.509995</td>\n",
              "      <td>175.779999</td>\n",
              "      <td>25695348</td>\n",
              "      <td>0</td>\n",
              "      <td>0</td>\n",
              "    </tr>\n",
              "  </tbody>\n",
              "</table>\n",
              "</div>"
            ],
            "text/plain": [
              "                  Open        High         Low       Close    Volume  \\\n",
              "Date                                                                   \n",
              "2022-07-13  160.160004  164.979996  159.612701  163.490005  16555138   \n",
              "2022-07-14  161.220001  162.589996  157.280106  158.050003  23765168   \n",
              "2022-07-15  160.539993  164.979996  159.820007  164.699997  23342807   \n",
              "2022-07-18  166.750000  171.684998  165.639999  167.229996  23574337   \n",
              "2022-07-19  170.369995  176.490005  169.509995  175.779999  25695348   \n",
              "\n",
              "            Dividends  Stock Splits  \n",
              "Date                                 \n",
              "2022-07-13          0             0  \n",
              "2022-07-14          0             0  \n",
              "2022-07-15          0             0  \n",
              "2022-07-18          0             0  \n",
              "2022-07-19          0             0  "
            ]
          },
          "execution_count": 4,
          "metadata": {},
          "output_type": "execute_result"
        }
      ],
      "source": [
        "fb.tail()"
      ]
    },
    {
      "cell_type": "code",
      "execution_count": null,
      "metadata": {
        "id": "4k45Wu4L-cJk"
      },
      "outputs": [],
      "source": [
        "fb = fb.dropna()\n",
        "fb[\"Date\"] = fb.index"
      ]
    },
    {
      "cell_type": "code",
      "execution_count": null,
      "metadata": {
        "id": "yeV0oRc3-cJk"
      },
      "outputs": [],
      "source": [
        "fb = fb.groupby(fb.index)[['Close']].mean()"
      ]
    },
    {
      "cell_type": "code",
      "execution_count": null,
      "metadata": {
        "colab": {
          "base_uri": "https://localhost:8080/",
          "height": 238
        },
        "id": "1Wdhug0nrAJs",
        "outputId": "876ad925-a48f-4b90-bcfe-c9bd21283004"
      },
      "outputs": [
        {
          "data": {
            "text/html": [
              "<div>\n",
              "<style scoped>\n",
              "    .dataframe tbody tr th:only-of-type {\n",
              "        vertical-align: middle;\n",
              "    }\n",
              "\n",
              "    .dataframe tbody tr th {\n",
              "        vertical-align: top;\n",
              "    }\n",
              "\n",
              "    .dataframe thead th {\n",
              "        text-align: right;\n",
              "    }\n",
              "</style>\n",
              "<table border=\"1\" class=\"dataframe\">\n",
              "  <thead>\n",
              "    <tr style=\"text-align: right;\">\n",
              "      <th></th>\n",
              "      <th>Close</th>\n",
              "    </tr>\n",
              "    <tr>\n",
              "      <th>Date</th>\n",
              "      <th></th>\n",
              "    </tr>\n",
              "  </thead>\n",
              "  <tbody>\n",
              "    <tr>\n",
              "      <th>2020-07-20</th>\n",
              "      <td>245.419998</td>\n",
              "    </tr>\n",
              "    <tr>\n",
              "      <th>2020-07-21</th>\n",
              "      <td>241.750000</td>\n",
              "    </tr>\n",
              "    <tr>\n",
              "      <th>2020-07-22</th>\n",
              "      <td>239.869995</td>\n",
              "    </tr>\n",
              "    <tr>\n",
              "      <th>2020-07-23</th>\n",
              "      <td>232.600006</td>\n",
              "    </tr>\n",
              "    <tr>\n",
              "      <th>2020-07-24</th>\n",
              "      <td>230.710007</td>\n",
              "    </tr>\n",
              "  </tbody>\n",
              "</table>\n",
              "</div>"
            ],
            "text/plain": [
              "                 Close\n",
              "Date                  \n",
              "2020-07-20  245.419998\n",
              "2020-07-21  241.750000\n",
              "2020-07-22  239.869995\n",
              "2020-07-23  232.600006\n",
              "2020-07-24  230.710007"
            ]
          },
          "execution_count": 7,
          "metadata": {},
          "output_type": "execute_result"
        }
      ],
      "source": [
        "fb.head()"
      ]
    },
    {
      "cell_type": "code",
      "execution_count": null,
      "metadata": {
        "colab": {
          "base_uri": "https://localhost:8080/"
        },
        "id": "Wv6VVkl3rVXz",
        "outputId": "e933ec45-3544-4e09-c78d-2b3ff606fb47"
      },
      "outputs": [
        {
          "name": "stdout",
          "output_type": "stream",
          "text": [
            "P value is: 0.7729074630536077\n",
            "P value >0.05 , hence data is non stationary\n"
          ]
        }
      ],
      "source": [
        "#Dicky Fuller Test\n",
        "from statsmodels.tsa.stattools import adfuller\n",
        "print(\"P value is: \" + str(adfuller(fb['Close'])[1]))\n",
        "print(\"P value >0.05 , hence data is non stationary\")\n",
        "\n"
      ]
    },
    {
      "cell_type": "code",
      "execution_count": null,
      "metadata": {
        "colab": {
          "base_uri": "https://localhost:8080/"
        },
        "id": "6CAkICRf658a",
        "outputId": "3a1fb2e9-ec1c-439b-cec9-9627dc0277bd"
      },
      "outputs": [
        {
          "name": "stdout",
          "output_type": "stream",
          "text": [
            "1\n"
          ]
        }
      ],
      "source": [
        "#Differencing to make data stationary\n",
        "#How many differences required\n",
        "\n",
        "print(pmdarima.arima.utils.ndiffs(fb['Close'],test='adf'))"
      ]
    },
    {
      "cell_type": "code",
      "execution_count": null,
      "metadata": {
        "id": "9J-gemqm-cJl",
        "outputId": "6d103372-51bd-4994-cc71-80b0f157a22c"
      },
      "outputs": [
        {
          "name": "stdout",
          "output_type": "stream",
          "text": [
            "                 Close  Close First Difference\n",
            "Date                                          \n",
            "2020-07-21  241.750000               -3.669998\n",
            "2020-07-22  239.869995               -1.880005\n",
            "2020-07-23  232.600006               -7.269989\n",
            "2020-07-24  230.710007               -1.889999\n",
            "2020-07-27  233.500000                2.789993\n"
          ]
        },
        {
          "data": {
            "text/plain": [
              "Text(0, 0.5, 'Price')"
            ]
          },
          "execution_count": 10,
          "metadata": {},
          "output_type": "execute_result"
        },
        {
          "data": {
            "image/png": "[encoded data removed]",
            "text/plain": [
              "<Figure size 720x360 with 1 Axes>"
            ]
          },
          "metadata": {
            "needs_background": "light"
          },
          "output_type": "display_data"
        }
      ],
      "source": [
        "fb[\"Close First Difference\"] = fb['Close'] - fb['Close'].shift(1)\n",
        "fb = fb.dropna()\n",
        "print(fb.head())\n",
        "fb['Close First Difference'].plot(figsize=(10,5))\n",
        "plt.xlabel('Year')\n",
        "plt.ylabel('Price')\n"
      ]
    },
    {
      "cell_type": "code",
      "execution_count": null,
      "metadata": {
        "id": "EsFsr4F5-cJm",
        "outputId": "aed6c2ec-3e67-4753-869f-348213b30386"
      },
      "outputs": [
        {
          "data": {
            "image/png": "[encoded data removed]",
            "text/plain": [
              "<Figure size 864x576 with 2 Axes>"
            ]
          },
          "metadata": {
            "needs_background": "light"
          },
          "output_type": "display_data"
        }
      ],
      "source": [
        "import statsmodels.api as sm\n",
        "fig = plt.figure(figsize=(12,8))\n",
        "ax1 = fig.add_subplot(211)\n",
        "fig = sm.graphics.tsa.plot_acf(fb[\"Close First Difference\"].dropna(),ax=ax1)\n",
        "ax2 = fig.add_subplot(212)\n",
        "fig = sm.graphics.tsa.plot_pacf(fb[\"Close First Difference\"].dropna(),ax=ax2)"
      ]
    },
    {
      "cell_type": "code",
      "execution_count": null,
      "metadata": {
        "id": "SPJ7s57z-cJm",
        "outputId": "620d0813-722c-4ff5-d3c6-8ed5d0b1450f"
      },
      "outputs": [
        {
          "data": {
            "text/html": [
              "<div>\n",
              "<style scoped>\n",
              "    .dataframe tbody tr th:only-of-type {\n",
              "        vertical-align: middle;\n",
              "    }\n",
              "\n",
              "    .dataframe tbody tr th {\n",
              "        vertical-align: top;\n",
              "    }\n",
              "\n",
              "    .dataframe thead th {\n",
              "        text-align: right;\n",
              "    }\n",
              "</style>\n",
              "<table border=\"1\" class=\"dataframe\">\n",
              "  <thead>\n",
              "    <tr style=\"text-align: right;\">\n",
              "      <th></th>\n",
              "      <th>Close</th>\n",
              "      <th>Close First Difference</th>\n",
              "    </tr>\n",
              "    <tr>\n",
              "      <th>Date</th>\n",
              "      <th></th>\n",
              "      <th></th>\n",
              "    </tr>\n",
              "  </thead>\n",
              "  <tbody>\n",
              "    <tr>\n",
              "      <th>2020-07-21</th>\n",
              "      <td>241.750000</td>\n",
              "      <td>-3.669998</td>\n",
              "    </tr>\n",
              "    <tr>\n",
              "      <th>2020-07-22</th>\n",
              "      <td>239.869995</td>\n",
              "      <td>-1.880005</td>\n",
              "    </tr>\n",
              "    <tr>\n",
              "      <th>2020-07-23</th>\n",
              "      <td>232.600006</td>\n",
              "      <td>-7.269989</td>\n",
              "    </tr>\n",
              "    <tr>\n",
              "      <th>2020-07-24</th>\n",
              "      <td>230.710007</td>\n",
              "      <td>-1.889999</td>\n",
              "    </tr>\n",
              "    <tr>\n",
              "      <th>2020-07-27</th>\n",
              "      <td>233.500000</td>\n",
              "      <td>2.789993</td>\n",
              "    </tr>\n",
              "    <tr>\n",
              "      <th>...</th>\n",
              "      <td>...</td>\n",
              "      <td>...</td>\n",
              "    </tr>\n",
              "    <tr>\n",
              "      <th>2022-07-13</th>\n",
              "      <td>163.490005</td>\n",
              "      <td>0.220001</td>\n",
              "    </tr>\n",
              "    <tr>\n",
              "      <th>2022-07-14</th>\n",
              "      <td>158.050003</td>\n",
              "      <td>-5.440002</td>\n",
              "    </tr>\n",
              "    <tr>\n",
              "      <th>2022-07-15</th>\n",
              "      <td>164.699997</td>\n",
              "      <td>6.649994</td>\n",
              "    </tr>\n",
              "    <tr>\n",
              "      <th>2022-07-18</th>\n",
              "      <td>167.229996</td>\n",
              "      <td>2.529999</td>\n",
              "    </tr>\n",
              "    <tr>\n",
              "      <th>2022-07-19</th>\n",
              "      <td>175.779999</td>\n",
              "      <td>8.550003</td>\n",
              "    </tr>\n",
              "  </tbody>\n",
              "</table>\n",
              "<p>503 rows × 2 columns</p>\n",
              "</div>"
            ],
            "text/plain": [
              "                 Close  Close First Difference\n",
              "Date                                          \n",
              "2020-07-21  241.750000               -3.669998\n",
              "2020-07-22  239.869995               -1.880005\n",
              "2020-07-23  232.600006               -7.269989\n",
              "2020-07-24  230.710007               -1.889999\n",
              "2020-07-27  233.500000                2.789993\n",
              "...                ...                     ...\n",
              "2022-07-13  163.490005                0.220001\n",
              "2022-07-14  158.050003               -5.440002\n",
              "2022-07-15  164.699997                6.649994\n",
              "2022-07-18  167.229996                2.529999\n",
              "2022-07-19  175.779999                8.550003\n",
              "\n",
              "[503 rows x 2 columns]"
            ]
          },
          "execution_count": 12,
          "metadata": {},
          "output_type": "execute_result"
        }
      ],
      "source": [
        "fb"
      ]
    },
    {
      "cell_type": "code",
      "execution_count": null,
      "metadata": {
        "colab": {
          "base_uri": "https://localhost:8080/"
        },
        "id": "FitThKi64q0b",
        "outputId": "67eda6d5-25a8-4a53-84c8-55280dca174d"
      },
      "outputs": [
        {
          "name": "stdout",
          "output_type": "stream",
          "text": [
            "P value is: 0.0\n"
          ]
        }
      ],
      "source": [
        "\n",
        "print(\"P value is: \" + str(adfuller(fb['Close First Difference'].dropna())[1]))\n"
      ]
    },
    {
      "cell_type": "code",
      "execution_count": null,
      "metadata": {
        "id": "LaYcS3jR-cJn"
      },
      "outputs": [],
      "source": [
        "predi=[]\n",
        "\n",
        "r=len(fb)\n",
        "r = int(r*0.7)\n",
        "fb_test = np.array(fb['Close'][r:])\n",
        "for i in range(len(fb_test)):\n",
        "    l=len(fb)\n",
        "    l = int(l*0.7)\n",
        "    fb_train = np.array(fb['Close'][:l+i])\n",
        "    fb_test = np.array(fb['Close'][l+i:l+i+1])\n",
        "    stepwise_fit = pmdarima.auto_arima(fb['Close First Difference'][:l+i].dropna(),suppress_warnings=True,d=1)\n",
        "    a = list(str(stepwise_fit)[7:12:2])\n",
        "    a = [int(d) for d in a]\n",
        "    model_fb = sm.tsa.arima.ARIMA(fb_train,order=a)\n",
        "    result_fb = model_fb.fit()\n",
        "    start_fb = len(fb_train)\n",
        "    end_fb = len(fb_train)+len(fb_test)-1\n",
        "    pred_fb = result_fb.predict(start=start_fb,end=end_fb,typ='levels')\n",
        "    predi.append(float(pred_fb))\n",
        "\n",
        "\n",
        "\n",
        "\n",
        "\n",
        "\n",
        "    "
      ]
    },
    {
      "cell_type": "code",
      "execution_count": null,
      "metadata": {
        "id": "nNNDW1-O-cJn",
        "outputId": "c1ea084d-23a0-4210-de46-4f36ec380cc2"
      },
      "outputs": [
        {
          "data": {
            "image/png": "[encoded data removed]",
            "text/plain": [
              "<Figure size 432x288 with 1 Axes>"
            ]
          },
          "metadata": {
            "needs_background": "light"
          },
          "output_type": "display_data"
        }
      ],
      "source": [
        "l=len(fb)\n",
        "l = int(l*0.7)\n",
        "fb_test = np.array(fb['Close'][l:])\n",
        "pred_fb_index = np.array(fb.index[l:])\n",
        "plt.plot(pred_fb_index,predi,color='lightsalmon')\n",
        "plt.plot(pred_fb_index,fb_test[:],color='teal')\n",
        "plt.xlabel('Date')\n",
        "plt.ylabel('Prices')\n",
        "plt.title(\"Training Result\")\n",
        "plt.legend(['Predicted Value','Actual Value'])\n",
        "plt.show()\n"
      ]
    },
    {
      "cell_type": "code",
      "execution_count": null,
      "metadata": {
        "id": "86EfK935-cJn"
      },
      "outputs": [],
      "source": [
        "# Predicting Data For The Coming Month(20th July Onwards)\n",
        "n = len(fb)\n",
        "predi=[]\n",
        "for i in range(20):\n",
        "    fb_train = list(fb['Close'][:n+i])\n",
        "    stepwise_fit = pmdarima.auto_arima(fb['Close First Difference'][i:n+i].dropna(),suppress_warnings=True,d=1)\n",
        "    a = list(str(stepwise_fit)[7:12:2])\n",
        "    a = [int(d) for d in a]\n",
        "    model_fb = sm.tsa.arima.ARIMA(np.array(fb_train),order=a)\n",
        "    result_fb = model_fb.fit()\n",
        "    start_fb = len(fb_train)\n",
        "    end_fb = len(fb_train)\n",
        "    pred_fb = result_fb.predict(start=start_fb,end=end_fb,typ='levels')\n",
        "    pred_fb=pred_fb[0]\n",
        "    predi.append(float(pred_fb))\n",
        "    fb_train.append(float(pred_fb))\n",
        "    df={'Close':float(pred_fb)}\n",
        "    fb = fb.append(df,ignore_index='True')\n",
        "    fb[\"Close First Difference\"][n+i] = fb['Close'][n+i] - fb['Close'][n+i-1]\n",
        "\n",
        "    \n",
        "    \n",
        "    \n",
        "\n"
      ]
    },
    {
      "cell_type": "code",
      "execution_count": null,
      "metadata": {
        "id": "LCyu72ez-cJo",
        "outputId": "02dab669-f445-4aeb-a4a6-884357cf6683"
      },
      "outputs": [
        {
          "data": {
            "text/plain": [
              "[175.2339856472638,\n",
              " 175.09069396008817,\n",
              " 174.03028051541528,\n",
              " 173.57156497257205,\n",
              " 173.27650006002267,\n",
              " 173.39103167099262,\n",
              " 173.47695626248375,\n",
              " 173.56369644006355,\n",
              " 173.586043865886,\n",
              " 173.5856565184207,\n",
              " 173.5704311631977,\n",
              " 173.56146230751295,\n",
              " 173.55702994987243,\n",
              " 173.55737438744146,\n",
              " 173.5587782299172,\n",
              " 173.56013067775015,\n",
              " 173.56065466446873,\n",
              " 173.56070465466436,\n",
              " 173.56052113038623,\n",
              " 173.56036397251725]"
            ]
          },
          "execution_count": 17,
          "metadata": {},
          "output_type": "execute_result"
        }
      ],
      "source": [
        "from datetime import datetime\n",
        "indexes = pd.date_range(start=\"2022-07-20\",periods=20).to_pydatetime().tolist()\n",
        "predi"
      ]
    },
    {
      "cell_type": "code",
      "execution_count": null,
      "metadata": {
        "id": "nt3drQvB-cJo",
        "outputId": "741515e1-58c2-4c25-88b4-41c546779266"
      },
      "outputs": [
        {
          "data": {
            "text/plain": [
              "<function matplotlib.pyplot.show(close=None, block=None)>"
            ]
          },
          "execution_count": 18,
          "metadata": {},
          "output_type": "execute_result"
        },
        {
          "data": {
            "image/png": "[encoded data removed]",
            "text/plain": [
              "<Figure size 432x288 with 1 Axes>"
            ]
          },
          "metadata": {
            "needs_background": "light"
          },
          "output_type": "display_data"
        }
      ],
      "source": [
        "plt.plot(indexes,predi,color='lightsalmon')\n",
        "plt.xlabel('Date')\n",
        "plt.ylabel('Prices')\n",
        "plt.title(\"Facebook Stock Forecast\")\n",
        "plt.legend(['Predicted Value'])\n",
        "plt.show\n"
      ]
    },
    {
      "cell_type": "code",
      "execution_count": null,
      "metadata": {
        "id": "e6cJQgwd-cJo"
      },
      "outputs": [],
      "source": []
    }
  ],
  "metadata": {
    "colab": {
      "provenance": []
    },
    "kernelspec": {
      "display_name": "Python 3 (ipykernel)",
      "language": "python",
      "name": "python3"
    },
    "language_info": {
      "codemirror_mode": {
        "name": "ipython",
        "version": 3
      },
      "file_extension": ".py",
      "mimetype": "text/x-python",
      "name": "python",
      "nbconvert_exporter": "python",
      "pygments_lexer": "ipython3",
      "version": "3.9.7"
    }
  },
  "nbformat": 4,
  "nbformat_minor": 0
}